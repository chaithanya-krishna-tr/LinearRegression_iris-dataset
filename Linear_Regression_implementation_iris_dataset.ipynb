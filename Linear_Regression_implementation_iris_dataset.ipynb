{
 "cells": [
  {
   "cell_type": "code",
   "execution_count": 1,
   "id": "1a7af3b5",
   "metadata": {},
   "outputs": [],
   "source": [
    "import pandas as pd\n",
    "import numpy as np\n",
    "from matplotlib import pyplot as plt\n",
    "import seaborn as sns\n",
    "%matplotlib inline"
   ]
  },
  {
   "cell_type": "code",
   "execution_count": 2,
   "id": "d4cd5c43",
   "metadata": {},
   "outputs": [
    {
     "data": {
      "text/html": [
       "<div>\n",
       "<style scoped>\n",
       "    .dataframe tbody tr th:only-of-type {\n",
       "        vertical-align: middle;\n",
       "    }\n",
       "\n",
       "    .dataframe tbody tr th {\n",
       "        vertical-align: top;\n",
       "    }\n",
       "\n",
       "    .dataframe thead th {\n",
       "        text-align: right;\n",
       "    }\n",
       "</style>\n",
       "<table border=\"1\" class=\"dataframe\">\n",
       "  <thead>\n",
       "    <tr style=\"text-align: right;\">\n",
       "      <th></th>\n",
       "      <th>sepal.length</th>\n",
       "      <th>sepal.width</th>\n",
       "      <th>petal.length</th>\n",
       "      <th>petal.width</th>\n",
       "      <th>variety</th>\n",
       "    </tr>\n",
       "  </thead>\n",
       "  <tbody>\n",
       "    <tr>\n",
       "      <th>0</th>\n",
       "      <td>5.1</td>\n",
       "      <td>3.5</td>\n",
       "      <td>1.4</td>\n",
       "      <td>0.2</td>\n",
       "      <td>Setosa</td>\n",
       "    </tr>\n",
       "    <tr>\n",
       "      <th>1</th>\n",
       "      <td>4.9</td>\n",
       "      <td>3.0</td>\n",
       "      <td>1.4</td>\n",
       "      <td>0.2</td>\n",
       "      <td>Setosa</td>\n",
       "    </tr>\n",
       "    <tr>\n",
       "      <th>2</th>\n",
       "      <td>4.7</td>\n",
       "      <td>3.2</td>\n",
       "      <td>1.3</td>\n",
       "      <td>0.2</td>\n",
       "      <td>Setosa</td>\n",
       "    </tr>\n",
       "    <tr>\n",
       "      <th>3</th>\n",
       "      <td>4.6</td>\n",
       "      <td>3.1</td>\n",
       "      <td>1.5</td>\n",
       "      <td>0.2</td>\n",
       "      <td>Setosa</td>\n",
       "    </tr>\n",
       "    <tr>\n",
       "      <th>4</th>\n",
       "      <td>5.0</td>\n",
       "      <td>3.6</td>\n",
       "      <td>1.4</td>\n",
       "      <td>0.2</td>\n",
       "      <td>Setosa</td>\n",
       "    </tr>\n",
       "  </tbody>\n",
       "</table>\n",
       "</div>"
      ],
      "text/plain": [
       "   sepal.length  sepal.width  petal.length  petal.width variety\n",
       "0           5.1          3.5           1.4          0.2  Setosa\n",
       "1           4.9          3.0           1.4          0.2  Setosa\n",
       "2           4.7          3.2           1.3          0.2  Setosa\n",
       "3           4.6          3.1           1.5          0.2  Setosa\n",
       "4           5.0          3.6           1.4          0.2  Setosa"
      ]
     },
     "execution_count": 2,
     "metadata": {},
     "output_type": "execute_result"
    }
   ],
   "source": [
    "df = pd.read_csv('iris.csv')\n",
    "df.head()"
   ]
  },
  {
   "cell_type": "code",
   "execution_count": 3,
   "id": "8fb4c014",
   "metadata": {},
   "outputs": [
    {
     "data": {
      "text/plain": [
       "(150, 5)"
      ]
     },
     "execution_count": 3,
     "metadata": {},
     "output_type": "execute_result"
    }
   ],
   "source": [
    "df.shape"
   ]
  },
  {
   "cell_type": "code",
   "execution_count": 4,
   "id": "53a89500",
   "metadata": {},
   "outputs": [],
   "source": [
    "df = df.rename(columns = {'sepal.length':'sepal_length','sepal.width':'sepal_width','petal.length':'petal_length','petal.width':'petal_width','variety':'class'})"
   ]
  },
  {
   "cell_type": "code",
   "execution_count": 5,
   "id": "1e8d12f6",
   "metadata": {},
   "outputs": [
    {
     "data": {
      "text/html": [
       "<div>\n",
       "<style scoped>\n",
       "    .dataframe tbody tr th:only-of-type {\n",
       "        vertical-align: middle;\n",
       "    }\n",
       "\n",
       "    .dataframe tbody tr th {\n",
       "        vertical-align: top;\n",
       "    }\n",
       "\n",
       "    .dataframe thead th {\n",
       "        text-align: right;\n",
       "    }\n",
       "</style>\n",
       "<table border=\"1\" class=\"dataframe\">\n",
       "  <thead>\n",
       "    <tr style=\"text-align: right;\">\n",
       "      <th></th>\n",
       "      <th>sepal_length</th>\n",
       "      <th>sepal_width</th>\n",
       "      <th>petal_length</th>\n",
       "      <th>petal_width</th>\n",
       "      <th>class</th>\n",
       "    </tr>\n",
       "  </thead>\n",
       "  <tbody>\n",
       "    <tr>\n",
       "      <th>0</th>\n",
       "      <td>5.1</td>\n",
       "      <td>3.5</td>\n",
       "      <td>1.4</td>\n",
       "      <td>0.2</td>\n",
       "      <td>Setosa</td>\n",
       "    </tr>\n",
       "    <tr>\n",
       "      <th>1</th>\n",
       "      <td>4.9</td>\n",
       "      <td>3.0</td>\n",
       "      <td>1.4</td>\n",
       "      <td>0.2</td>\n",
       "      <td>Setosa</td>\n",
       "    </tr>\n",
       "    <tr>\n",
       "      <th>2</th>\n",
       "      <td>4.7</td>\n",
       "      <td>3.2</td>\n",
       "      <td>1.3</td>\n",
       "      <td>0.2</td>\n",
       "      <td>Setosa</td>\n",
       "    </tr>\n",
       "    <tr>\n",
       "      <th>3</th>\n",
       "      <td>4.6</td>\n",
       "      <td>3.1</td>\n",
       "      <td>1.5</td>\n",
       "      <td>0.2</td>\n",
       "      <td>Setosa</td>\n",
       "    </tr>\n",
       "    <tr>\n",
       "      <th>4</th>\n",
       "      <td>5.0</td>\n",
       "      <td>3.6</td>\n",
       "      <td>1.4</td>\n",
       "      <td>0.2</td>\n",
       "      <td>Setosa</td>\n",
       "    </tr>\n",
       "  </tbody>\n",
       "</table>\n",
       "</div>"
      ],
      "text/plain": [
       "   sepal_length  sepal_width  petal_length  petal_width   class\n",
       "0           5.1          3.5           1.4          0.2  Setosa\n",
       "1           4.9          3.0           1.4          0.2  Setosa\n",
       "2           4.7          3.2           1.3          0.2  Setosa\n",
       "3           4.6          3.1           1.5          0.2  Setosa\n",
       "4           5.0          3.6           1.4          0.2  Setosa"
      ]
     },
     "execution_count": 5,
     "metadata": {},
     "output_type": "execute_result"
    }
   ],
   "source": [
    "df.head()"
   ]
  },
  {
   "cell_type": "code",
   "execution_count": 6,
   "id": "73e36538",
   "metadata": {},
   "outputs": [],
   "source": [
    "#Create dummy variables for target variable\n",
    "dummy = pd.get_dummies(df['class'],prefix = 'class',prefix_sep = '_')"
   ]
  },
  {
   "cell_type": "code",
   "execution_count": 7,
   "id": "721166dc",
   "metadata": {},
   "outputs": [],
   "source": [
    "df = pd.concat([df,dummy],axis = 1)"
   ]
  },
  {
   "cell_type": "code",
   "execution_count": 8,
   "id": "df514de9",
   "metadata": {},
   "outputs": [
    {
     "data": {
      "text/html": [
       "<div>\n",
       "<style scoped>\n",
       "    .dataframe tbody tr th:only-of-type {\n",
       "        vertical-align: middle;\n",
       "    }\n",
       "\n",
       "    .dataframe tbody tr th {\n",
       "        vertical-align: top;\n",
       "    }\n",
       "\n",
       "    .dataframe thead th {\n",
       "        text-align: right;\n",
       "    }\n",
       "</style>\n",
       "<table border=\"1\" class=\"dataframe\">\n",
       "  <thead>\n",
       "    <tr style=\"text-align: right;\">\n",
       "      <th></th>\n",
       "      <th>sepal_length</th>\n",
       "      <th>sepal_width</th>\n",
       "      <th>petal_length</th>\n",
       "      <th>petal_width</th>\n",
       "      <th>class</th>\n",
       "      <th>class_Setosa</th>\n",
       "      <th>class_Versicolor</th>\n",
       "      <th>class_Virginica</th>\n",
       "    </tr>\n",
       "  </thead>\n",
       "  <tbody>\n",
       "    <tr>\n",
       "      <th>0</th>\n",
       "      <td>5.1</td>\n",
       "      <td>3.5</td>\n",
       "      <td>1.4</td>\n",
       "      <td>0.2</td>\n",
       "      <td>Setosa</td>\n",
       "      <td>1</td>\n",
       "      <td>0</td>\n",
       "      <td>0</td>\n",
       "    </tr>\n",
       "    <tr>\n",
       "      <th>1</th>\n",
       "      <td>4.9</td>\n",
       "      <td>3.0</td>\n",
       "      <td>1.4</td>\n",
       "      <td>0.2</td>\n",
       "      <td>Setosa</td>\n",
       "      <td>1</td>\n",
       "      <td>0</td>\n",
       "      <td>0</td>\n",
       "    </tr>\n",
       "    <tr>\n",
       "      <th>2</th>\n",
       "      <td>4.7</td>\n",
       "      <td>3.2</td>\n",
       "      <td>1.3</td>\n",
       "      <td>0.2</td>\n",
       "      <td>Setosa</td>\n",
       "      <td>1</td>\n",
       "      <td>0</td>\n",
       "      <td>0</td>\n",
       "    </tr>\n",
       "    <tr>\n",
       "      <th>3</th>\n",
       "      <td>4.6</td>\n",
       "      <td>3.1</td>\n",
       "      <td>1.5</td>\n",
       "      <td>0.2</td>\n",
       "      <td>Setosa</td>\n",
       "      <td>1</td>\n",
       "      <td>0</td>\n",
       "      <td>0</td>\n",
       "    </tr>\n",
       "    <tr>\n",
       "      <th>4</th>\n",
       "      <td>5.0</td>\n",
       "      <td>3.6</td>\n",
       "      <td>1.4</td>\n",
       "      <td>0.2</td>\n",
       "      <td>Setosa</td>\n",
       "      <td>1</td>\n",
       "      <td>0</td>\n",
       "      <td>0</td>\n",
       "    </tr>\n",
       "  </tbody>\n",
       "</table>\n",
       "</div>"
      ],
      "text/plain": [
       "   sepal_length  sepal_width  petal_length  petal_width   class  class_Setosa  \\\n",
       "0           5.1          3.5           1.4          0.2  Setosa             1   \n",
       "1           4.9          3.0           1.4          0.2  Setosa             1   \n",
       "2           4.7          3.2           1.3          0.2  Setosa             1   \n",
       "3           4.6          3.1           1.5          0.2  Setosa             1   \n",
       "4           5.0          3.6           1.4          0.2  Setosa             1   \n",
       "\n",
       "   class_Versicolor  class_Virginica  \n",
       "0                 0                0  \n",
       "1                 0                0  \n",
       "2                 0                0  \n",
       "3                 0                0  \n",
       "4                 0                0  "
      ]
     },
     "execution_count": 8,
     "metadata": {},
     "output_type": "execute_result"
    }
   ],
   "source": [
    "df.head()"
   ]
  },
  {
   "cell_type": "code",
   "execution_count": 9,
   "id": "c93abcd8",
   "metadata": {},
   "outputs": [],
   "source": [
    "#Selecting features and target variables\n",
    "#Extracting depending and independent variables\n",
    "x = df.iloc[:,1:4].values\n",
    "y = df.iloc[:,5:].values"
   ]
  },
  {
   "cell_type": "code",
   "execution_count": 10,
   "id": "277b51fa",
   "metadata": {},
   "outputs": [],
   "source": [
    "#Splitting dataset into training and testing\n",
    "from sklearn.model_selection import train_test_split\n",
    "x_train,x_test,y_train,y_test = train_test_split(x,y,test_size = 0.3,random_state = 0)"
   ]
  },
  {
   "cell_type": "code",
   "execution_count": 11,
   "id": "9e0076aa",
   "metadata": {},
   "outputs": [],
   "source": [
    "#LinearRegrerssion\n",
    "from sklearn.linear_model import LinearRegression\n",
    "regressor = LinearRegression()\n",
    "regressor.fit(x_train,y_train)\n",
    "y_pred = regressor.predict(x_test)\n",
    "x_pred = regressor.predict(x_train)"
   ]
  },
  {
   "cell_type": "code",
   "execution_count": 12,
   "id": "baead477",
   "metadata": {},
   "outputs": [
    {
     "data": {
      "text/plain": [
       "array([[-8.74522032e-02,  1.14324076e-01,  9.73128127e-01],\n",
       "       [ 8.65518807e-02,  7.99077176e-01,  1.14370944e-01],\n",
       "       [ 1.16712315e+00, -1.77974213e-01,  1.08510582e-02],\n",
       "       [-1.98738513e-01,  5.77488903e-01,  6.21249611e-01],\n",
       "       [ 9.29594405e-01,  1.79309769e-01, -1.08904175e-01],\n",
       "       [-1.13592977e-01,  2.97908100e-02,  1.08380217e+00],\n",
       "       [ 9.80301147e-01,  5.28092980e-02, -3.31104455e-02],\n",
       "       [ 1.61179698e-01,  3.23642474e-01,  5.15177828e-01],\n",
       "       [ 7.23529308e-02,  5.15484681e-01,  4.12162389e-01],\n",
       "       [ 2.19308362e-01,  4.07888497e-01,  3.72803142e-01],\n",
       "       [-1.18854661e-01,  7.53477091e-01,  3.65377570e-01],\n",
       "       [ 2.22764035e-01,  2.43013086e-01,  5.34222880e-01],\n",
       "       [ 1.11117849e-01,  5.88043438e-01,  3.00838713e-01],\n",
       "       [ 9.54947954e-02,  4.31246781e-01,  4.73258424e-01],\n",
       "       [ 1.16927538e-01,  4.54038700e-01,  4.29033762e-01],\n",
       "       [ 1.01261148e+00,  1.21472300e-01, -1.34083785e-01],\n",
       "       [ 1.40069402e-01,  3.69800801e-01,  4.90129797e-01],\n",
       "       [ 1.07017283e-01,  6.15018356e-01,  2.77964360e-01],\n",
       "       [ 8.25467031e-01,  2.83305565e-01, -1.08772596e-01],\n",
       "       [ 1.07968306e+00, -1.62112072e-01,  8.24290091e-02],\n",
       "       [-9.92236599e-03,  2.59441591e-01,  7.50480775e-01],\n",
       "       [ 1.67634280e-01,  3.27538229e-01,  5.04827491e-01],\n",
       "       [ 8.61555487e-01,  2.56043403e-01, -1.17598890e-01],\n",
       "       [ 8.08779748e-01,  3.71439220e-01, -1.80218967e-01],\n",
       "       [ 2.88425526e-02,  3.32000349e-01,  6.39157099e-01],\n",
       "       [ 1.06977281e+00, -1.13241592e-03, -6.86403922e-02],\n",
       "       [ 9.50059808e-01, -4.74904995e-03,  5.46892420e-02],\n",
       "       [ 1.95844051e-01,  4.23176150e-01,  3.80979800e-01],\n",
       "       [ 2.33184865e-01,  6.22530745e-01,  1.44284390e-01],\n",
       "       [ 8.90829487e-01,  1.06751012e-01,  2.41950134e-03],\n",
       "       [-7.53092196e-03,  3.39496492e-01,  6.68034430e-01],\n",
       "       [ 1.67634280e-01,  3.27538229e-01,  5.04827491e-01],\n",
       "       [ 9.57159283e-01,  1.37047198e-01, -9.42064805e-02],\n",
       "       [ 6.69625780e-02,  2.66658614e-01,  6.66378808e-01],\n",
       "       [-1.50745662e-01,  3.01983284e-01,  8.48762378e-01],\n",
       "       [ 1.97875619e-01,  3.85096577e-01,  4.17027804e-01],\n",
       "       [ 9.94956862e-01,  2.75521625e-03,  2.28792215e-03],\n",
       "       [-2.79963244e-02,  5.23555311e-01,  5.04441013e-01],\n",
       "       [ 2.18663469e-01,  2.69988004e-01,  5.11348528e-01],\n",
       "       [ 1.75056201e-01,  5.38284723e-01,  2.86659076e-01],\n",
       "       [-6.77285830e-02,  2.44145815e-01,  8.23582768e-01],\n",
       "       [ 9.08484110e-01,  2.25468096e-01, -1.33952206e-01],\n",
       "       [ 6.12002364e-03,  3.34074441e-02,  9.60472532e-01],\n",
       "       [ 8.96639175e-01, -2.72537257e-02,  1.30614551e-01],\n",
       "       [ 1.01228904e+00,  5.25220542e-02, -6.48110920e-02]])"
      ]
     },
     "execution_count": 12,
     "metadata": {},
     "output_type": "execute_result"
    }
   ],
   "source": [
    "y_pred\n"
   ]
  },
  {
   "cell_type": "code",
   "execution_count": 15,
   "id": "a69fd39c",
   "metadata": {},
   "outputs": [
    {
     "name": "stdout",
     "output_type": "stream",
     "text": [
      "Coefficients : \n",
      " [[ 0.27564877 -0.1700973  -0.10877595]\n",
      " [-0.42262572  0.19183408 -0.45871083]\n",
      " [ 0.14697694 -0.02173679  0.56748677]]\n"
     ]
    }
   ],
   "source": [
    "print(f'Coefficients : \\n {regressor.coef_}')"
   ]
  },
  {
   "cell_type": "code",
   "execution_count": 16,
   "id": "cd8f00b8",
   "metadata": {},
   "outputs": [
    {
     "name": "stdout",
     "output_type": "stream",
     "text": [
      "Mean Squared Error : \n",
      " 0.09\n",
      "Mean absolute error : \n",
      " 0.23\n",
      "Coefficient of Determination: \n",
      " 0.57\n"
     ]
    }
   ],
   "source": [
    "from sklearn.metrics import r2_score,mean_squared_error,mean_absolute_error\n",
    "mse = mean_squared_error(y_test,y_pred)\n",
    "mae = mean_absolute_error(y_test,y_pred)\n",
    "r2s = r2_score(y_test,y_pred)\n",
    "print(f\"Mean Squared Error : \\n {mse:.2f}\")\n",
    "print(f\"Mean absolute error : \\n {mae:.2f}\")\n",
    "print(f\"Coefficient of Determination: \\n {r2s:.2f}\")"
   ]
  },
  {
   "cell_type": "code",
   "execution_count": 20,
   "id": "2ef7b622",
   "metadata": {},
   "outputs": [
    {
     "name": "stderr",
     "output_type": "stream",
     "text": [
      "No artists with labels found to put in legend.  Note that artists whose label start with an underscore are ignored when legend() is called with no argument.\n"
     ]
    },
    {
     "data": {
      "image/png": "[encoded data removed]",
      "text/plain": [
       "<Figure size 432x288 with 1 Axes>"
      ]
     },
     "metadata": {
      "needs_background": "light"
     },
     "output_type": "display_data"
    }
   ],
   "source": [
    "#Plotting for Training set\n",
    "plt.title(\"Measurements Vs Species (Training Results)\")\n",
    "plt.xlabel(\"Measurements\")\n",
    "plt.ylabel(\"Class of Species\")\n",
    "plt.scatter(x_train,y_train,color=\"green\",s = 10)\n",
    "plt.plot(x_train,x_pred,color =\"red\")\n",
    "plt.legend(loc='upper right')\n",
    "plt.show()\n"
   ]
  },
  {
   "cell_type": "code",
   "execution_count": 21,
   "id": "5aef061a",
   "metadata": {},
   "outputs": [
    {
     "name": "stderr",
     "output_type": "stream",
     "text": [
      "No artists with labels found to put in legend.  Note that artists whose label start with an underscore are ignored when legend() is called with no argument.\n"
     ]
    },
    {
     "data": {
      "image/png": "[encoded data removed]",
      "text/plain": [
       "<Figure size 432x288 with 1 Axes>"
      ]
     },
     "metadata": {
      "needs_background": "light"
     },
     "output_type": "display_data"
    }
   ],
   "source": [
    "#Plotting for Test Results\n",
    "plt.title(\"Measurements Vs Species (Testing Results)\")\n",
    "plt.xlabel(\"Measurements\")\n",
    "plt.ylabel(\"Class of Species\")\n",
    "plt.scatter(x_test,y_test,color=\"green\",s = 10)\n",
    "plt.plot(x_train,x_pred,color =\"red\")\n",
    "plt.legend(loc='upper right')\n",
    "plt.show()\n"
   ]
  },
  {
   "cell_type": "code",
   "execution_count": 24,
   "id": "5d3477af",
   "metadata": {},
   "outputs": [
    {
     "name": "stderr",
     "output_type": "stream",
     "text": [
      "No artists with labels found to put in legend.  Note that artists whose label start with an underscore are ignored when legend() is called with no argument.\n"
     ]
    },
    {
     "data": {
      "image/png": "[encoded data removed]",
      "text/plain": [
       "<Figure size 432x288 with 1 Axes>"
      ]
     },
     "metadata": {
      "needs_background": "light"
     },
     "output_type": "display_data"
    }
   ],
   "source": [
    "plt.title(\"Residual errors\")\n",
    "plt.scatter(x_pred,x_pred-y_train,color = 'green')\n",
    "plt.scatter(y_pred,y_pred-y_test,color = 'blue')\n",
    "plt.hlines(y = 0,xmin = 0,xmax = 50,linewidth = 2)\n",
    "plt.legend(loc = 'upper right')\n",
    "plt.show()"
   ]
  },
  {
   "cell_type": "code",
   "execution_count": null,
   "id": "68b3bf03",
   "metadata": {},
   "outputs": [],
   "source": []
  }
 ],
 "metadata": {
  "kernelspec": {
   "display_name": "Python 3 (ipykernel)",
   "language": "python",
   "name": "python3"
  },
  "language_info": {
   "codemirror_mode": {
    "name": "ipython",
    "version": 3
   },
   "file_extension": ".py",
   "mimetype": "text/x-python",
   "name": "python",
   "nbconvert_exporter": "python",
   "pygments_lexer": "ipython3",
   "version": "3.9.12"
  }
 },
 "nbformat": 4,
 "nbformat_minor": 5
}
